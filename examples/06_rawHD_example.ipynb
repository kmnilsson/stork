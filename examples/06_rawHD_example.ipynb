{
 "cells": [
  {
   "cell_type": "markdown",
   "metadata": {},
   "source": [
    "# Train a deep convolutional SNN on the rawHD dataset\n",
    "\n",
    "This notebook demonstrates training of a feed-forward convolutional SNN on the [raw Heidelberg Digits dataset](https://zenkelab.org/resources/spiking-heidelberg-datasets-shd/). Data is encoded using a trainable encoder layer."
   ]
  },
  {
   "cell_type": "code",
   "execution_count": 1,
   "metadata": {},
   "outputs": [],
   "source": [
    "# First, imports\n",
    "import os\n",
    "import sys\n",
    "sys.path.append(\"../../\")\n",
    "\n",
    "import numpy as np\n",
    "import torch\n",
    "\n",
    "import matplotlib.pyplot as plt\n",
    "import seaborn as sns\n",
    "\n",
    "import stork\n",
    "from stork.datasets import RawHeidelbergDigits, DatasetView\n",
    "from stork.models import RecurrentSpikingModel\n",
    "from stork.nodes import InputGroup, ReadoutGroup, LIFGroup, MaxPool1d\n",
    "from stork.connections import Connection\n",
    "from stork.generators import StandardGenerator\n",
    "from stork.initializers import FluctuationDrivenCenteredNormalInitializer, DistInitializer\n",
    "from stork.layers import ConvLayer\n"
   ]
  },
  {
   "cell_type": "markdown",
   "metadata": {},
   "source": [
    "## Load RawHD dataset"
   ]
  },
  {
   "cell_type": "code",
   "execution_count": 2,
   "metadata": {},
   "outputs": [],
   "source": [
    "# Data \n",
    "datadir = \"/tungstenfs/scratch/gzenke/datasets/RawHeidelbergDigits\"\n",
    "cachedir = '/tungstenfs/scratch/gzenke/datasets/cache/'\n",
    "standardize_inputs = False\n",
    "validation_split = 0.9\n",
    "\n",
    "nb_inputs = 40\n",
    "duration = 0.4\n",
    "time_step = dt = 2e-3\n",
    "nb_time_steps = int(duration / time_step)\n",
    "nb_input_steps = 80\n",
    "time_scale = 1.0\n"
   ]
  },
  {
   "cell_type": "code",
   "execution_count": 3,
   "metadata": {},
   "outputs": [
    {
     "name": "stdout",
     "output_type": "stream",
     "text": [
      "Found 10420 flac files ...\n",
      "Selected 8156 flac files ...\n"
     ]
    },
    {
     "name": "stdout",
     "output_type": "stream",
     "text": [
      "Finished loading 8156 cached data ...\n",
      "Found 10420 flac files ...\n",
      "Selected 2264 flac files ...\n",
      "Finished loading 2264 cached data ...\n"
     ]
    }
   ],
   "source": [
    "datagen_kwargs = dict(nb_steps=nb_input_steps,\n",
    "                      time_step=10e-3,\n",
    "                      standardize=standardize_inputs,\n",
    "                    )\n",
    "\n",
    "def read_filelist(filename):\n",
    "    with open(filename) as f:\n",
    "        content = f.readlines()\n",
    "    # Remove whitespace characters like `\\n` at the end of each line\n",
    "    content = [x.strip() for x in content]\n",
    "    return content\n",
    "\n",
    "train_dataset = RawHeidelbergDigits(datadir, \n",
    "                                    subset=read_filelist(\"%s/train_filenames.txt\"%datadir), \n",
    "                                    cache_fname=\"%s/rawhd-std%i-cache-training.pkl.gz\"%(cachedir, standardize_inputs), \n",
    "                                    **datagen_kwargs)\n",
    "\n",
    "test_dataset = RawHeidelbergDigits(datadir, \n",
    "                                   subset=read_filelist(\"%s/test_filenames.txt\"%datadir), \n",
    "                                   cache_fname=\"%s/rawhd-std%i-cache-test.pkl.gz\"%(cachedir, standardize_inputs), \n",
    "                                   **datagen_kwargs)\n",
    "\n",
    "if validation_split:\n",
    "    mother_dataset=train_dataset\n",
    "    elements = np.arange(len(mother_dataset))\n",
    "    np.random.shuffle(elements)\n",
    "    split = int(validation_split*len(mother_dataset))\n",
    "    train_dataset = DatasetView(mother_dataset, elements[:split])\n",
    "    valid_dataset = DatasetView(mother_dataset, elements[split:])"
   ]
  },
  {
   "cell_type": "markdown",
   "metadata": {},
   "source": [
    "## Set up model"
   ]
  },
  {
   "cell_type": "code",
   "execution_count": 4,
   "metadata": {},
   "outputs": [],
   "source": [
    "# Model Parameters\n",
    "# # # # # # # # # # #\n",
    "\n",
    "beta = 20\n",
    "\n",
    "# Encoder Parameters\n",
    "# # # # # # # # # # #\n",
    "\n",
    "encoder_fanout = 10\n",
    "encoder_gain = 1\n",
    "\n",
    "# Hidden layer blocks\n",
    "# # # # # # # # # # #\n",
    "\n",
    "nb_hidden_blocks = 1\n",
    "nb_classes = 20\n",
    "nb_hidden_channels = encoder_fanout\n",
    "\n",
    "kernel_size = 5        # Convolutional operation parameters\n",
    "stride = 1\n",
    "padding = 2\n",
    "\n",
    "recurrent_kwargs = {'kernel_size': 5,\n",
    "                    'stride': 1,\n",
    "                    'padding': 2}\n",
    "\n",
    "# Neuron Parameters\n",
    "# # # # # # # # # # #\n",
    "\n",
    "neuron_group = LIFGroup\n",
    "tau_mem = 20e-3\n",
    "tau_syn = 5e-3\n",
    "tau_readout = 20e-3\n",
    "\n",
    "# Training parameters\n",
    "# # # # # # # # # # #\n",
    "\n",
    "batch_size = 100\n",
    "device = torch.device(\"cuda\")\n",
    "dtype = torch.float\n",
    "lr = 5e-3\n",
    "nb_epochs = 30"
   ]
  },
  {
   "cell_type": "markdown",
   "metadata": {},
   "source": [
    "### Regularizer setup"
   ]
  },
  {
   "cell_type": "code",
   "execution_count": 5,
   "metadata": {},
   "outputs": [],
   "source": [
    "PopUpperBoundL2Strength = 0.1\n",
    "PopUpperBoundL2Threshold = 50    \n",
    "\n",
    "PopUpperBoundL1Strength = 0.1   \n",
    "PopUpperBoundL1Threshold = 20\n",
    "\n",
    "NeuronLowerBoundL2Strength = 100\n",
    "NeuronLowerBoundL2Threshold = 1e-3\n",
    "\n",
    "NeuronUpperBoundL2Strength = 0.1\n",
    "NeuronUpperBoundL2Threshold = 60\n",
    "\n",
    "scale_act_reg = 1.0/(2*nb_hidden_blocks+1.0)\n",
    "\n",
    "# population upper bound\n",
    "PopUBL2 = stork.regularizers.UpperBoundL2(scale_act_reg * PopUpperBoundL2Strength,\n",
    "                                          threshold=PopUpperBoundL2Threshold, \n",
    "                                          dims=(-2, -1))\n",
    "\n",
    "# population upper bound\n",
    "PopUBL1 = stork.regularizers.UpperBoundL1(scale_act_reg * PopUpperBoundL1Strength,\n",
    "                                          threshold=PopUpperBoundL1Threshold, \n",
    "                                          dims=(-2, -1))\n",
    "\n",
    "# Per-feature lower bound\n",
    "NeuLBL2 = stork.regularizers.LowerBoundL2(scale_act_reg * NeuronLowerBoundL2Strength,\n",
    "                                          threshold=NeuronLowerBoundL2Threshold,\n",
    "                                          dims=(-1))                          \n",
    "\n",
    "# Per-neuron upper bound\n",
    "NeuUBL2 = stork.regularizers.UpperBoundL2(NeuronUpperBoundL2Strength,\n",
    "                                          threshold=NeuronUpperBoundL2Threshold, \n",
    "                                          dims=False)\n",
    "\n",
    "regs = [PopUBL2, PopUBL1, NeuLBL2, NeuUBL2]"
   ]
  },
  {
   "cell_type": "markdown",
   "metadata": {},
   "source": [
    "### SuperSpike and loss function"
   ]
  },
  {
   "cell_type": "code",
   "execution_count": 6,
   "metadata": {},
   "outputs": [],
   "source": [
    "act_fn = stork.activations.SuperSpike\n",
    "act_fn.beta = beta\n",
    "\n",
    "loss_stack = stork.loss_stacks.SumOverTimeCrossEntropy()"
   ]
  },
  {
   "cell_type": "markdown",
   "metadata": {},
   "source": [
    "### Optimizer"
   ]
  },
  {
   "cell_type": "code",
   "execution_count": 7,
   "metadata": {},
   "outputs": [],
   "source": [
    "opt = stork.optimizers.SMORMS3\n",
    "generator = StandardGenerator(nb_workers=2, persistent_workers=False)"
   ]
  },
  {
   "cell_type": "markdown",
   "metadata": {},
   "source": [
    "### Initializer setup"
   ]
  },
  {
   "cell_type": "code",
   "execution_count": null,
   "metadata": {},
   "outputs": [],
   "source": [
    "sigma_u = 1.0\n",
    "nu = 5.0\n",
    "\n",
    "initializer = FluctuationDrivenCenteredNormalInitializer(\n",
    "    sigma_u = sigma_u, \n",
    "    nu=nu, \n",
    "    timestep = dt,\n",
    "    alpha=0.9\n",
    "    )\n",
    "\n",
    "readout_initializer = DistInitializer(\n",
    "    dist = torch.distributions.Normal(0, 1),\n",
    "    scaling='1/sqrt(k)'\n",
    ")\n"
   ]
  },
  {
   "cell_type": "code",
   "execution_count": null,
   "metadata": {},
   "outputs": [],
   "source": [
    "neuron_group = LIFGroup\n",
    "\n",
    "neuronal_params = dict(tau_mem=tau_mem,\n",
    "                       tau_syn=tau_syn,\n",
    "                       activation=act_fn)\n",
    "\n",
    "model = RecurrentSpikingModel(batch_size,\n",
    "                              nb_time_steps,\n",
    "                              nb_inputs,\n",
    "                              device,\n",
    "                              dtype)\n",
    "\n",
    "model.plot_groups = []\n",
    "\n",
    "# Input Layer\n",
    "# # # # # # # # # # # \n",
    "\n",
    "input_shape = (1, nb_inputs)\n",
    "input_group = model.add_group(stork.nodes.InputWarpGroup(input_shape, nb_input_steps))\n",
    "\n",
    "# Set input group as upstream of first hidden layer\n",
    "upstream_group = input_group\n",
    "\n",
    "# Spike encoder Layer\n",
    "# # # # # # # # # # # \n",
    "\n",
    "fanout_group =  model.add_group(stork.nodes.FanOutGroup(upstream_group, encoder_fanout, dim=0)) \n",
    "\n",
    "analog_digital_conversion_group = model.add_group(stork.nodes.AdaptiveLIFGroup(fanout_group.shape, \n",
    "                                                                               adapt_a=0.5, \n",
    "                                                                               tau_ada=100e-3, \n",
    "                                                                               name=\"encoder\",\n",
    "                                                                               regularizers=regs,\n",
    "                                                                               **neuronal_params\n",
    "                                                                               )) \n",
    "\n",
    "id_con = model.add_connection(stork.connections.IdentityConnection(fanout_group, \n",
    "                                                                   analog_digital_conversion_group, \n",
    "                                                                   bias=True, \n",
    "                                                                   tie_weights=[1], \n",
    "                                                                   weight_scale=1.0\n",
    "                                                                   ))\n",
    "\n",
    "# Custom initialization of encoder weights\n",
    "scale = encoder_gain * time_step/(tau_syn)\n",
    "shape = id_con.weights.shape\n",
    "id_con.weight.data = torch.reshape(torch.linspace(-scale, scale, \n",
    "                                                  analog_digital_conversion_group.shape[0], \n",
    "                                                  requires_grad=True), shape)\n",
    "\n",
    "model.plot_groups.append(analog_digital_conversion_group)\n",
    "upstream_group = analog_digital_conversion_group\n",
    "\n",
    "# Hidden Blocks\n",
    "# # # # # # # # # # #\n",
    "\n",
    "for block_idx in range(nb_hidden_blocks):\n",
    "    \n",
    "    block_name = str('Block') + ' ' + str(block_idx + 1)\n",
    "    \n",
    "    # Make conv layers\n",
    "    for conv_idx in range(2):\n",
    "        conv = ConvLayer(name = block_name + ' Conv' + str(conv_idx + 1), \n",
    "                         model = model,\n",
    "                         input_group = upstream_group,\n",
    "                         kernel_size = kernel_size,\n",
    "                         stride = stride,\n",
    "                         padding = padding,\n",
    "                         nb_filters= nb_hidden_channels,\n",
    "                         recurrent = False,\n",
    "                         neuron_class = neuron_group,\n",
    "                         neuron_kwargs = neuronal_params,\n",
    "                         regs = regs\n",
    "                         )\n",
    "        \n",
    "        # Initialize parameters\n",
    "        initializer.initialize(conv)\n",
    "        \n",
    "        # Set output as input to next layer\n",
    "        upstream_group = conv.output_group\n",
    "        \n",
    "        model.plot_groups.append(conv.output_group)\n",
    "\n",
    "    # Make maxpool layer\n",
    "    maxpool = model.add_group(MaxPool1d(upstream_group))\n",
    "    upstream_group = maxpool\n",
    "\n",
    "# READOUT LAYER\n",
    "# # # # # # # # # # # # # # #\n",
    "readout_group = model.add_group(ReadoutGroup(\n",
    "    nb_classes,\n",
    "    tau_mem=tau_readout,\n",
    "    tau_syn=neuronal_params['tau_syn'],\n",
    "    initial_state=-1e-3))\n",
    "\n",
    "readout_connection = model.add_connection(Connection(upstream_group, \n",
    "                                                     readout_group,\n",
    "                                                     flatten_input=True))\n",
    "\n",
    "# Initialize readout connection\n",
    "readout_initializer.initialize(readout_connection)"
   ]
  },
  {
   "cell_type": "markdown",
   "metadata": {},
   "source": [
    "## Configure model"
   ]
  },
  {
   "cell_type": "code",
   "execution_count": null,
   "metadata": {},
   "outputs": [],
   "source": [
    "model.configure(input=input_group,\n",
    "                output=readout_group,\n",
    "                loss_stack=loss_stack,\n",
    "                generator=generator,\n",
    "                optimizer=opt,\n",
    "                optimizer_kwargs=dict(lr=lr),\n",
    "                time_step=dt)"
   ]
  },
  {
   "cell_type": "markdown",
   "metadata": {},
   "source": [
    "### Snapshot before training"
   ]
  },
  {
   "cell_type": "code",
   "execution_count": null,
   "metadata": {},
   "outputs": [
    {
     "data": {
      "image/png": "[encoded data removed]",
      "text/plain": [
       "<Figure size 900x600 with 35 Axes>"
      ]
     },
     "metadata": {
      "needs_background": "light"
     },
     "output_type": "display_data"
    }
   ],
   "source": [
    "plt.figure(dpi=150)\n",
    "stork.plotting.plot_activity_snapshot(\n",
    "    model,\n",
    "    data=test_dataset,\n",
    "    nb_samples=5,\n",
    "    point_alpha=0.3)"
   ]
  },
  {
   "cell_type": "markdown",
   "metadata": {},
   "source": [
    "# Training"
   ]
  },
  {
   "cell_type": "code",
   "execution_count": null,
   "metadata": {},
   "outputs": [
    {
     "name": "stdout",
     "output_type": "stream",
     "text": [
      "00  loss=35.7 reg_loss=3.47e-05 acc=0.0695 -- val_loss=10.5 val_reg_loss=3.82e-05 val_acc=0.1 t_iter=28.57\n",
      "01  loss=7.8 reg_loss=3.8e-05 acc=0.163 -- val_loss=6.39 val_reg_loss=3.54e-05 val_acc=0.245 t_iter=28.26\n",
      "02  loss=5.45 reg_loss=3.32e-05 acc=0.247 -- val_loss=4.25 val_reg_loss=3.16e-05 val_acc=0.285 t_iter=28.68\n",
      "03  loss=3.57 reg_loss=3.09e-05 acc=0.358 -- val_loss=2.83 val_reg_loss=2.95e-05 val_acc=0.434 t_iter=28.20\n",
      "04  loss=2.29 reg_loss=3.11e-05 acc=0.482 -- val_loss=2.21 val_reg_loss=3e-05 val_acc=0.515 t_iter=28.52\n",
      "05  loss=1.47 reg_loss=3.12e-05 acc=0.613 -- val_loss=1.13 val_reg_loss=2.88e-05 val_acc=0.669 t_iter=28.56\n",
      "06  loss=1.07 reg_loss=2.78e-05 acc=0.7 -- val_loss=0.892 val_reg_loss=2.51e-05 val_acc=0.727 t_iter=28.35\n",
      "07  loss=0.763 reg_loss=2.42e-05 acc=0.783 -- val_loss=0.892 val_reg_loss=2.4e-05 val_acc=0.783 t_iter=28.40\n",
      "08  loss=0.646 reg_loss=2.35e-05 acc=0.816 -- val_loss=0.557 val_reg_loss=2.33e-05 val_acc=0.834 t_iter=28.50\n",
      "09  loss=0.528 reg_loss=2.25e-05 acc=0.845 -- val_loss=0.538 val_reg_loss=2.28e-05 val_acc=0.848 t_iter=28.49\n",
      "10  loss=0.467 reg_loss=2.19e-05 acc=0.863 -- val_loss=0.404 val_reg_loss=2.18e-05 val_acc=0.879 t_iter=28.62\n",
      "11  loss=0.43 reg_loss=2.01e-05 acc=0.877 -- val_loss=0.448 val_reg_loss=1.98e-05 val_acc=0.876 t_iter=28.49\n",
      "12  loss=0.37 reg_loss=1.95e-05 acc=0.887 -- val_loss=0.417 val_reg_loss=1.96e-05 val_acc=0.896 t_iter=28.03\n",
      "13  loss=0.351 reg_loss=1.84e-05 acc=0.895 -- val_loss=0.287 val_reg_loss=1.76e-05 val_acc=0.912 t_iter=28.74\n",
      "14  loss=0.327 reg_loss=1.7e-05 acc=0.91 -- val_loss=0.304 val_reg_loss=1.75e-05 val_acc=0.926 t_iter=28.39\n",
      "15  loss=0.296 reg_loss=1.71e-05 acc=0.911 -- val_loss=0.316 val_reg_loss=1.71e-05 val_acc=0.914 t_iter=28.30\n",
      "16  loss=0.338 reg_loss=1.66e-05 acc=0.908 -- val_loss=0.356 val_reg_loss=1.58e-05 val_acc=0.904 t_iter=28.41\n",
      "17  loss=0.334 reg_loss=1.52e-05 acc=0.91 -- val_loss=0.47 val_reg_loss=1.37e-05 val_acc=0.896 t_iter=28.20\n",
      "18  loss=0.33 reg_loss=1.37e-05 acc=0.908 -- val_loss=0.4 val_reg_loss=1.41e-05 val_acc=0.901 t_iter=28.09\n",
      "19  loss=0.269 reg_loss=1.38e-05 acc=0.926 -- val_loss=0.27 val_reg_loss=1.33e-05 val_acc=0.932 t_iter=28.66\n",
      "20  loss=0.282 reg_loss=1.27e-05 acc=0.922 -- val_loss=0.399 val_reg_loss=1.28e-05 val_acc=0.912 t_iter=28.20\n",
      "21  loss=0.294 reg_loss=1.16e-05 acc=0.92 -- val_loss=0.392 val_reg_loss=1.06e-05 val_acc=0.917 t_iter=28.49\n",
      "22  loss=0.272 reg_loss=1e-05 acc=0.926 -- val_loss=0.352 val_reg_loss=9.94e-06 val_acc=0.928 t_iter=27.95\n",
      "23  loss=0.257 reg_loss=1.02e-05 acc=0.933 -- val_loss=0.342 val_reg_loss=1.07e-05 val_acc=0.922 t_iter=28.28\n",
      "24  loss=0.226 reg_loss=1.01e-05 acc=0.938 -- val_loss=0.252 val_reg_loss=1.02e-05 val_acc=0.927 t_iter=28.38\n",
      "25  loss=0.197 reg_loss=9.86e-06 acc=0.943 -- val_loss=0.255 val_reg_loss=9.25e-06 val_acc=0.928 t_iter=26.09\n",
      "26  loss=0.215 reg_loss=8.76e-06 acc=0.943 -- val_loss=0.29 val_reg_loss=8.54e-06 val_acc=0.921 t_iter=25.93\n",
      "27  loss=0.223 reg_loss=8.39e-06 acc=0.938 -- val_loss=0.314 val_reg_loss=8.29e-06 val_acc=0.924 t_iter=28.35\n",
      "28  loss=0.204 reg_loss=8.22e-06 acc=0.943 -- val_loss=0.35 val_reg_loss=8.26e-06 val_acc=0.902 t_iter=28.40\n",
      "29  loss=0.176 reg_loss=7.94e-06 acc=0.949 -- val_loss=0.295 val_reg_loss=7.6e-06 val_acc=0.908 t_iter=28.29\n"
     ]
    }
   ],
   "source": [
    "results = {}\n",
    "\n",
    "history = model.fit_validate(\n",
    "    train_dataset,\n",
    "    valid_dataset,\n",
    "    nb_epochs=nb_epochs,\n",
    "    verbose=True)\n",
    "\n",
    "results[\"train_loss\"] = history[\"loss\"].tolist()\n",
    "results[\"train_acc\"] = history[\"acc\"].tolist()\n",
    "results[\"valid_loss\"] = history[\"val_loss\"].tolist()\n",
    "results[\"valid_acc\"] = history[\"val_acc\"].tolist()"
   ]
  },
  {
   "cell_type": "markdown",
   "metadata": {},
   "source": [
    "# Test"
   ]
  },
  {
   "cell_type": "code",
   "execution_count": null,
   "metadata": {},
   "outputs": [],
   "source": [
    "scores = model.evaluate(test_dataset).tolist()\n",
    "results[\"test_loss\"], _, results[\"test_acc\"] = scores"
   ]
  },
  {
   "cell_type": "markdown",
   "metadata": {},
   "source": [
    "### Plotting"
   ]
  },
  {
   "cell_type": "code",
   "execution_count": null,
   "metadata": {},
   "outputs": [
    {
     "name": "stdout",
     "output_type": "stream",
     "text": [
      "Test loss:  0.960944880609927\n",
      "Test acc.:  0.8215217391304348\n",
      "\n",
      "Validation loss:  0.2952420694960488\n",
      "Validation acc.:  0.9077777777777776\n"
     ]
    },
    {
     "data": {
      "image/png": "[encoded data removed]",
      "text/plain": [
       "<Figure size 750x450 with 4 Axes>"
      ]
     },
     "metadata": {
      "needs_background": "light"
     },
     "output_type": "display_data"
    }
   ],
   "source": [
    "fig, ax = plt.subplots(2,2, figsize=(5,3), dpi=150)\n",
    "\n",
    "for i, n in enumerate([\"train_loss\", \"train_acc\", \"valid_loss\", \"valid_acc\"]):\n",
    "    \n",
    "    if i < 2:\n",
    "        a = ax[0][i]\n",
    "    else:\n",
    "        a = ax[1][i-2]\n",
    "\n",
    "    a.plot(results[n], color=\"black\")\n",
    "    a.set_xlabel(\"Epochs\")\n",
    "    a.set_ylabel(n)\n",
    "\n",
    "ax[0, 1].set_ylim(0, 1)\n",
    "ax[1, 1].set_ylim(0, 1)\n",
    "\n",
    "sns.despine()\n",
    "plt.tight_layout()\n",
    "\n",
    "print(\"Test loss: \", results[\"test_loss\"])\n",
    "print(\"Test acc.: \", results[\"test_acc\"])\n",
    "\n",
    "print(\"\\nValidation loss: \", results[\"valid_loss\"][-1])\n",
    "print(\"Validation acc.: \", results[\"valid_acc\"][-1])"
   ]
  },
  {
   "cell_type": "markdown",
   "metadata": {},
   "source": [
    "### Snapshot after training"
   ]
  },
  {
   "cell_type": "code",
   "execution_count": null,
   "metadata": {},
   "outputs": [
    {
     "data": {
      "image/png": "[encoded data removed]",
      "text/plain": [
       "<Figure size 900x600 with 35 Axes>"
      ]
     },
     "metadata": {
      "needs_background": "light"
     },
     "output_type": "display_data"
    }
   ],
   "source": [
    "plt.figure(dpi=150)\n",
    "stork.plotting.plot_activity_snapshot(\n",
    "    model,\n",
    "    data=test_dataset,\n",
    "    nb_samples=5,\n",
    "    point_alpha=0.3)"
   ]
  },
  {
   "cell_type": "code",
   "execution_count": null,
   "metadata": {},
   "outputs": [],
   "source": []
  }
 ],
 "metadata": {
  "kernelspec": {
   "display_name": "stork-dev",
   "language": "python",
   "name": "python3"
  },
  "language_info": {
   "codemirror_mode": {
    "name": "ipython",
    "version": 3
   },
   "file_extension": ".py",
   "mimetype": "text/x-python",
   "name": "python",
   "nbconvert_exporter": "python",
   "pygments_lexer": "ipython3",
   "version": "3.8.10"
  }
 },
 "nbformat": 4,
 "nbformat_minor": 2
}
